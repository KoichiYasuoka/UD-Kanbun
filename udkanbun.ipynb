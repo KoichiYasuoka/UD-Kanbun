{
  "nbformat":4,
  "nbformat_minor":0,
  "metadata":{
    "colab":{ "name":"UD-Kanbun on Google Colaboratory" },
    "kernelspec":{ "name":"python3" }
  },
  "cells":[
    {
      "cell_type":"markdown",
      "metadata":{ "colab_type":"text" },
      "source":[
        "# [UD-Kanbun](https://koichiyasuoka.github.io/UD-Kanbun/) on Google Colaboratory\n"
      ]
    },
    {
      "cell_type":"code",
      "metadata":{ "colab_type":"code" },
      "source":[
        "!pip install udkanbun\n",
        "import udkanbun\n",
        "lzh=udkanbun.load()\n",
        "s=lzh(\"不入虎穴不得虎子\")\n",
        "print(s,s.kaeriten(),s.to_tree(),sep=\"\\n\\n\")\n",
        "from IPython.display import IFrame,display\n",
        "from urllib.parse import quote\n",
        "url=\"https://koichiyasuoka.github.io/UD-Kanbun/udkanbun/viewer.html\"\n",
        "display(IFrame(src=url+\"#\"+quote(str(s)),width=\"100%\",height=\"400\"))"
      ],
      "outputs":[
        {
          "output_type":"stream",
          "text":[
            "# text = 不入虎穴不得虎子\n",
            "1\t不\t不\tADV\tv,副詞,否定,無界\tPolarity=Neg\t2\tadvmod\t_\tGloss=not|SpaceAfter=No\n",
            "2\t入\t入\tVERB\tv,動詞,行為,移動\t_\t0\troot\t_\tGloss=enter|SpaceAfter=No\n",
            "3\t虎\t虎\tNOUN\tn,名詞,主体,動物\t_\t4\tnmod\t_\tGloss=tiger|SpaceAfter=No\n",
            "4\t穴\t穴\tNOUN\tn,名詞,固定物,地形\tCase=Loc\t2\tobj\t_\tGloss=cave|SpaceAfter=No\n",
            "5\t不\t不\tADV\tv,副詞,否定,無界\tPolarity=Neg\t6\tadvmod\t_\tGloss=not|SpaceAfter=No\n",
            "6\t得\t得\tVERB\tv,動詞,行為,得失\t_\t2\tparataxis\t_\tGloss=get|SpaceAfter=No\n",
            "7\t虎\t虎\tNOUN\tn,名詞,主体,動物\t_\t8\tnmod\t_\tGloss=tiger|SpaceAfter=No\n",
            "8\t子\t子\tNOUN\tn,名詞,人,関係\t_\t6\tobj\t_\tGloss=child|SpaceAfter=No\n",
            "\n",
            "\n",
            "不㆑入㆓虎穴㆒不㆑得㆓虎子㆒\n",
            "\n",
            "不 <╗     advmod\n",
            "入 ═╩═╦═╗ root\n",
            "虎 <╗ ║ ║ nmod\n",
            "穴 ═╝<╝ ║ obj\n",
            "不 <╗   ║ advmod\n",
            "得 ═╩═╗<╝ parataxis\n",
            "虎 <╗ ║   nmod\n",
            "子 ═╝<╝   obj\n",
            "\n"
          ]
        },
        {
          "output_type":"display_data",
          "data":{
            "text/html":[
              "<iframe width=\"100%\" height=\"400\" src=\"https://koichiyasuoka.github.io/UD-Kanbun/udkanbun/viewer.html#%23%20text%20%3D%20%E4%B8%8D%E5%85%A5%E8%99%8E%E7%A9%B4%E4%B8%8D%E5%BE%97%E8%99%8E%E5%AD%90%0A1%09%E4%B8%8D%09%E4%B8%8D%09ADV%09v%2C%E5%89%AF%E8%A9%9E%2C%E5%90%A6%E5%AE%9A%2C%E7%84%A1%E7%95%8C%09Polarity%3DNeg%092%09advmod%09_%09Gloss%3Dnot%7CSpaceAfter%3DNo%0A2%09%E5%85%A5%09%E5%85%A5%09VERB%09v%2C%E5%8B%95%E8%A9%9E%2C%E8%A1%8C%E7%82%BA%2C%E7%A7%BB%E5%8B%95%09_%090%09root%09_%09Gloss%3Denter%7CSpaceAfter%3DNo%0A3%09%E8%99%8E%09%E8%99%8E%09NOUN%09n%2C%E5%90%8D%E8%A9%9E%2C%E4%B8%BB%E4%BD%93%2C%E5%8B%95%E7%89%A9%09_%094%09nmod%09_%09Gloss%3Dtiger%7CSpaceAfter%3DNo%0A4%09%E7%A9%B4%09%E7%A9%B4%09NOUN%09n%2C%E5%90%8D%E8%A9%9E%2C%E5%9B%BA%E5%AE%9A%E7%89%A9%2C%E5%9C%B0%E5%BD%A2%09Case%3DLoc%092%09obj%09_%09Gloss%3Dcave%7CSpaceAfter%3DNo%0A5%09%E4%B8%8D%09%E4%B8%8D%09ADV%09v%2C%E5%89%AF%E8%A9%9E%2C%E5%90%A6%E5%AE%9A%2C%E7%84%A1%E7%95%8C%09Polarity%3DNeg%096%09advmod%09_%09Gloss%3Dnot%7CSpaceAfter%3DNo%0A6%09%E5%BE%97%09%E5%BE%97%09VERB%09v%2C%E5%8B%95%E8%A9%9E%2C%E8%A1%8C%E7%82%BA%2C%E5%BE%97%E5%A4%B1%09_%092%09parataxis%09_%09Gloss%3Dget%7CSpaceAfter%3DNo%0A7%09%E8%99%8E%09%E8%99%8E%09NOUN%09n%2C%E5%90%8D%E8%A9%9E%2C%E4%B8%BB%E4%BD%93%2C%E5%8B%95%E7%89%A9%09_%098%09nmod%09_%09Gloss%3Dtiger%7CSpaceAfter%3DNo%0A8%09%E5%AD%90%09%E5%AD%90%09NOUN%09n%2C%E5%90%8D%E8%A9%9E%2C%E4%BA%BA%2C%E9%96%A2%E4%BF%82%09_%096%09obj%09_%09Gloss%3Dchild%7CSpaceAfter%3DNo%0A%0A\" frameborder=\"0\" allowfullscreen></iframe>\n"
            ]
          }
        }
      ]
    }
  ]
}
