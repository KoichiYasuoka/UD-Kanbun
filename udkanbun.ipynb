{
  "nbformat":4,
  "nbformat_minor":0,
  "metadata":{
    "colab":{ "name":"UD-Kanbun on Google Colaboratory" },
    "kernelspec":{ "name":"python3" }
  },
  "cells":[
    {
      "cell_type":"markdown",
      "metadata":{ "colab_type":"text" },
      "source":[
        "# [UD-Kanbun](https://koichiyasuoka.github.io/UD-Kanbun/) on Google Colaboratory\n"
      ]
    },
    {
      "cell_type":"code",
      "metadata":{ "colab_type":"code" },
      "source":[
        "!pip install udkanbun\n",
        "import udkanbun\n",
        "lzh=udkanbun.load()\n",
        "s=lzh(\"不入虎穴不得虎子\")\n",
        "print(s,s.kaeriten(),s.to_tree(),sep=\"\\n\\n\")\n",
        "from IPython.display import IFrame,display\n",
        "from urllib.parse import quote\n",
        "url=\"https://koichiyasuoka.github.io/UD-Kanbun/udkanbun/viewer.html\"\n",
        "display(IFrame(src=url+\"#\"+quote(str(s)),width=\"100%\",height=\"400\"))\n"
      ]
    }
  ]
}
